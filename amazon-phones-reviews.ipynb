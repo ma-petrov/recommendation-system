{
 "cells": [
  {
   "cell_type": "markdown",
   "metadata": {},
   "source": [
    "## Reviews about mobile phones from amazon.com"
   ]
  },
  {
   "cell_type": "code",
   "execution_count": 156,
   "metadata": {},
   "outputs": [],
   "source": [
    "import threading\n",
    "import numpy as np\n",
    "import pandas as pd\n",
    "import matplotlib.pyplot as plt\n",
    "from tqdm import tqdm\n",
    "from sklearn.cluster import KMeans\n",
    "from sklearn.decomposition import PCA\n",
    "from mpl_toolkits.mplot3d import Axes3D"
   ]
  },
  {
   "cell_type": "code",
   "execution_count": 20,
   "metadata": {},
   "outputs": [
    {
     "data": {
      "text/html": [
       "<div>\n",
       "<style scoped>\n",
       "    .dataframe tbody tr th:only-of-type {\n",
       "        vertical-align: middle;\n",
       "    }\n",
       "\n",
       "    .dataframe tbody tr th {\n",
       "        vertical-align: top;\n",
       "    }\n",
       "\n",
       "    .dataframe thead th {\n",
       "        text-align: right;\n",
       "    }\n",
       "</style>\n",
       "<table border=\"1\" class=\"dataframe\">\n",
       "  <thead>\n",
       "    <tr style=\"text-align: right;\">\n",
       "      <th></th>\n",
       "      <th>asin</th>\n",
       "      <th>brand</th>\n",
       "      <th>rating</th>\n",
       "      <th>total_reviews</th>\n",
       "      <th>price</th>\n",
       "      <th>original_price</th>\n",
       "    </tr>\n",
       "  </thead>\n",
       "  <tbody>\n",
       "    <tr>\n",
       "      <th>0</th>\n",
       "      <td>B0000SX2UC</td>\n",
       "      <td>NaN</td>\n",
       "      <td>3.0</td>\n",
       "      <td>14</td>\n",
       "      <td>0.00</td>\n",
       "      <td>0.0</td>\n",
       "    </tr>\n",
       "    <tr>\n",
       "      <th>1</th>\n",
       "      <td>B0009N5L7K</td>\n",
       "      <td>Motorola</td>\n",
       "      <td>3.0</td>\n",
       "      <td>7</td>\n",
       "      <td>49.95</td>\n",
       "      <td>0.0</td>\n",
       "    </tr>\n",
       "    <tr>\n",
       "      <th>2</th>\n",
       "      <td>B000SKTZ0S</td>\n",
       "      <td>Motorola</td>\n",
       "      <td>2.7</td>\n",
       "      <td>22</td>\n",
       "      <td>99.99</td>\n",
       "      <td>0.0</td>\n",
       "    </tr>\n",
       "    <tr>\n",
       "      <th>3</th>\n",
       "      <td>B001AO4OUC</td>\n",
       "      <td>Motorola</td>\n",
       "      <td>3.3</td>\n",
       "      <td>21</td>\n",
       "      <td>0.00</td>\n",
       "      <td>0.0</td>\n",
       "    </tr>\n",
       "    <tr>\n",
       "      <th>4</th>\n",
       "      <td>B001DCJAJG</td>\n",
       "      <td>Motorola</td>\n",
       "      <td>3.1</td>\n",
       "      <td>12</td>\n",
       "      <td>149.99</td>\n",
       "      <td>0.0</td>\n",
       "    </tr>\n",
       "  </tbody>\n",
       "</table>\n",
       "</div>"
      ],
      "text/plain": [
       "         asin     brand  rating  total_reviews   price  original_price\n",
       "0  B0000SX2UC       NaN     3.0             14    0.00             0.0\n",
       "1  B0009N5L7K  Motorola     3.0              7   49.95             0.0\n",
       "2  B000SKTZ0S  Motorola     2.7             22   99.99             0.0\n",
       "3  B001AO4OUC  Motorola     3.3             21    0.00             0.0\n",
       "4  B001DCJAJG  Motorola     3.1             12  149.99             0.0"
      ]
     },
     "execution_count": 20,
     "metadata": {},
     "output_type": "execute_result"
    }
   ],
   "source": [
    "items = pd.read_csv('20191226-items.csv')\n",
    "items = items[['asin', 'brand', 'rating', 'totalReviews', 'price', 'originalPrice']]\n",
    "items.rename(columns={'totalReviews': 'total_reviews', 'originalPrice': 'original_price'}, inplace=True)\n",
    "print('items sample size: {}'.format(items.shape[0]))\n",
    "items.head()"
   ]
  },
  {
   "cell_type": "markdown",
   "metadata": {},
   "source": [
    "Some histograms (Maybe it's not bad to put some other comments here)"
   ]
  },
  {
   "cell_type": "code",
   "execution_count": 46,
   "metadata": {},
   "outputs": [
    {
     "data": {
      "image/png": "[encoded data removed]",
      "text/plain": [
       "<Figure size 1152x288 with 4 Axes>"
      ]
     },
     "metadata": {
      "needs_background": "light"
     },
     "output_type": "display_data"
    }
   ],
   "source": [
    "fig, axs = plt.subplots(1, 4, figsize=(16, 4))\n",
    "for i, col in enumerate(items.columns[2:]):\n",
    "    axs[i].hist(items[col])\n",
    "    axs[i].set_title(col)"
   ]
  },
  {
   "cell_type": "code",
   "execution_count": 35,
   "metadata": {},
   "outputs": [
    {
     "name": "stdout",
     "output_type": "stream",
     "text": [
      "reviews sample size: 67986\n"
     ]
    },
    {
     "data": {
      "text/html": [
       "<div>\n",
       "<style scoped>\n",
       "    .dataframe tbody tr th:only-of-type {\n",
       "        vertical-align: middle;\n",
       "    }\n",
       "\n",
       "    .dataframe tbody tr th {\n",
       "        vertical-align: top;\n",
       "    }\n",
       "\n",
       "    .dataframe thead th {\n",
       "        text-align: right;\n",
       "    }\n",
       "</style>\n",
       "<table border=\"1\" class=\"dataframe\">\n",
       "  <thead>\n",
       "    <tr style=\"text-align: right;\">\n",
       "      <th></th>\n",
       "      <th>asin</th>\n",
       "      <th>name</th>\n",
       "      <th>rating</th>\n",
       "      <th>date</th>\n",
       "      <th>verified</th>\n",
       "      <th>title</th>\n",
       "      <th>body</th>\n",
       "      <th>helpful_votes</th>\n",
       "    </tr>\n",
       "  </thead>\n",
       "  <tbody>\n",
       "    <tr>\n",
       "      <th>0</th>\n",
       "      <td>B0000SX2UC</td>\n",
       "      <td>Janet</td>\n",
       "      <td>3</td>\n",
       "      <td>October 11, 2005</td>\n",
       "      <td>False</td>\n",
       "      <td>Def not best, but not worst</td>\n",
       "      <td>I had the Samsung A600 for awhile which is abs...</td>\n",
       "      <td>1.0</td>\n",
       "    </tr>\n",
       "    <tr>\n",
       "      <th>1</th>\n",
       "      <td>B0000SX2UC</td>\n",
       "      <td>Luke Wyatt</td>\n",
       "      <td>1</td>\n",
       "      <td>January 7, 2004</td>\n",
       "      <td>False</td>\n",
       "      <td>Text Messaging Doesn't Work</td>\n",
       "      <td>Due to a software issue between Nokia and Spri...</td>\n",
       "      <td>17.0</td>\n",
       "    </tr>\n",
       "    <tr>\n",
       "      <th>2</th>\n",
       "      <td>B0000SX2UC</td>\n",
       "      <td>Brooke</td>\n",
       "      <td>5</td>\n",
       "      <td>December 30, 2003</td>\n",
       "      <td>False</td>\n",
       "      <td>Love This Phone</td>\n",
       "      <td>This is a great, reliable phone. I also purcha...</td>\n",
       "      <td>5.0</td>\n",
       "    </tr>\n",
       "    <tr>\n",
       "      <th>3</th>\n",
       "      <td>B0000SX2UC</td>\n",
       "      <td>amy m. teague</td>\n",
       "      <td>3</td>\n",
       "      <td>March 18, 2004</td>\n",
       "      <td>False</td>\n",
       "      <td>Love the Phone, BUT...!</td>\n",
       "      <td>I love the phone and all, because I really did...</td>\n",
       "      <td>1.0</td>\n",
       "    </tr>\n",
       "    <tr>\n",
       "      <th>4</th>\n",
       "      <td>B0000SX2UC</td>\n",
       "      <td>tristazbimmer</td>\n",
       "      <td>4</td>\n",
       "      <td>August 28, 2005</td>\n",
       "      <td>False</td>\n",
       "      <td>Great phone service and options, lousy case!</td>\n",
       "      <td>The phone has been great for every purpose it ...</td>\n",
       "      <td>1.0</td>\n",
       "    </tr>\n",
       "  </tbody>\n",
       "</table>\n",
       "</div>"
      ],
      "text/plain": [
       "         asin           name  rating               date  verified  \\\n",
       "0  B0000SX2UC          Janet       3   October 11, 2005     False   \n",
       "1  B0000SX2UC     Luke Wyatt       1    January 7, 2004     False   \n",
       "2  B0000SX2UC         Brooke       5  December 30, 2003     False   \n",
       "3  B0000SX2UC  amy m. teague       3     March 18, 2004     False   \n",
       "4  B0000SX2UC  tristazbimmer       4    August 28, 2005     False   \n",
       "\n",
       "                                          title  \\\n",
       "0                   Def not best, but not worst   \n",
       "1                   Text Messaging Doesn't Work   \n",
       "2                               Love This Phone   \n",
       "3                       Love the Phone, BUT...!   \n",
       "4  Great phone service and options, lousy case!   \n",
       "\n",
       "                                                body  helpful_votes  \n",
       "0  I had the Samsung A600 for awhile which is abs...            1.0  \n",
       "1  Due to a software issue between Nokia and Spri...           17.0  \n",
       "2  This is a great, reliable phone. I also purcha...            5.0  \n",
       "3  I love the phone and all, because I really did...            1.0  \n",
       "4  The phone has been great for every purpose it ...            1.0  "
      ]
     },
     "execution_count": 35,
     "metadata": {},
     "output_type": "execute_result"
    }
   ],
   "source": [
    "reviews = pd.read_csv('20191226-reviews.csv')\n",
    "reviews.rename(columns={'helpfulVotes': 'helpful_votes'}, inplace=True)\n",
    "print('reviews sample size: {}'.format(reviews.shape[0]))\n",
    "reviews.head()"
   ]
  },
  {
   "cell_type": "code",
   "execution_count": 39,
   "metadata": {
    "scrolled": false
   },
   "outputs": [
    {
     "data": {
      "image/png": "[encoded data removed]",
      "text/plain": [
       "<Figure size 1152x288 with 2 Axes>"
      ]
     },
     "metadata": {
      "needs_background": "light"
     },
     "output_type": "display_data"
    }
   ],
   "source": [
    "fig, axs = plt.subplots(1, 2, figsize=(16, 4))\n",
    "for i, col in enumerate(['rating', 'helpful_votes']):\n",
    "    axs[i].hist(reviews[col])\n",
    "    axs[i].set_title(col)"
   ]
  },
  {
   "cell_type": "markdown",
   "metadata": {},
   "source": [
    "### User-based model"
   ]
  },
  {
   "cell_type": "markdown",
   "metadata": {},
   "source": [
    "Selecting cumstomers, who has n (n = MIN_REVIEW_NUM) and more reviews"
   ]
  },
  {
   "cell_type": "code",
   "execution_count": 150,
   "metadata": {},
   "outputs": [
    {
     "name": "stdout",
     "output_type": "stream",
     "text": [
      "sample length: 17925\n"
     ]
    }
   ],
   "source": [
    "MIN_REVIEW_NUM = 3\n",
    "pvt = reviews.groupby(['name']).count().reset_index() # 'count' is not nice, topic for codereview\n",
    "csm_list = pvt[pvt.asin>=MIN_REVIEW_NUM].name.tolist()\n",
    "\n",
    "reviews1 = reviews[reviews.name.isin(csm_list)]\n",
    "print('sample length: {}'.format(reviews1.shape[0]))"
   ]
  },
  {
   "cell_type": "markdown",
   "metadata": {},
   "source": [
    "Merging brand name instead off asin number, dropping rows with unplugged brand"
   ]
  },
  {
   "cell_type": "code",
   "execution_count": 151,
   "metadata": {},
   "outputs": [
    {
     "name": "stdout",
     "output_type": "stream",
     "text": [
      "sample length: 17879\n"
     ]
    },
    {
     "data": {
      "text/html": [
       "<div>\n",
       "<style scoped>\n",
       "    .dataframe tbody tr th:only-of-type {\n",
       "        vertical-align: middle;\n",
       "    }\n",
       "\n",
       "    .dataframe tbody tr th {\n",
       "        vertical-align: top;\n",
       "    }\n",
       "\n",
       "    .dataframe thead th {\n",
       "        text-align: right;\n",
       "    }\n",
       "</style>\n",
       "<table border=\"1\" class=\"dataframe\">\n",
       "  <thead>\n",
       "    <tr style=\"text-align: right;\">\n",
       "      <th></th>\n",
       "      <th>name</th>\n",
       "      <th>rating</th>\n",
       "      <th>brand</th>\n",
       "    </tr>\n",
       "  </thead>\n",
       "  <tbody>\n",
       "    <tr>\n",
       "      <th>15</th>\n",
       "      <td>William B.</td>\n",
       "      <td>4</td>\n",
       "      <td>Motorola</td>\n",
       "    </tr>\n",
       "    <tr>\n",
       "      <th>21</th>\n",
       "      <td>Thomas</td>\n",
       "      <td>4</td>\n",
       "      <td>Motorola</td>\n",
       "    </tr>\n",
       "    <tr>\n",
       "      <th>23</th>\n",
       "      <td>Kristy</td>\n",
       "      <td>1</td>\n",
       "      <td>Motorola</td>\n",
       "    </tr>\n",
       "    <tr>\n",
       "      <th>27</th>\n",
       "      <td>Amazon Customer</td>\n",
       "      <td>1</td>\n",
       "      <td>Motorola</td>\n",
       "    </tr>\n",
       "    <tr>\n",
       "      <th>39</th>\n",
       "      <td>Linda</td>\n",
       "      <td>4</td>\n",
       "      <td>Motorola</td>\n",
       "    </tr>\n",
       "  </tbody>\n",
       "</table>\n",
       "</div>"
      ],
      "text/plain": [
       "               name  rating     brand\n",
       "15       William B.       4  Motorola\n",
       "21           Thomas       4  Motorola\n",
       "23           Kristy       1  Motorola\n",
       "27  Amazon Customer       1  Motorola\n",
       "39            Linda       4  Motorola"
      ]
     },
     "execution_count": 151,
     "metadata": {},
     "output_type": "execute_result"
    }
   ],
   "source": [
    "reviews1 = reviews1[['asin', 'name', 'rating']].join(items[['asin', 'brand']].set_index('asin'), on='asin')\n",
    "reviews1 = reviews1[reviews1.brand.isnull()==False]\n",
    "reviews1.drop(['asin'], axis='columns', inplace=True)\n",
    "\n",
    "print('sample length: {}'.format(reviews1.shape[0]))\n",
    "reviews1.head()"
   ]
  },
  {
   "cell_type": "markdown",
   "metadata": {},
   "source": [
    "Customers have reviews of phones with same brand. So it is needed to calculate mean value of rating in reviews of phones with same brands from one customer"
   ]
  },
  {
   "cell_type": "code",
   "execution_count": 152,
   "metadata": {},
   "outputs": [
    {
     "name": "stdout",
     "output_type": "stream",
     "text": [
      "sample length: 4873\n"
     ]
    },
    {
     "data": {
      "text/html": [
       "<div>\n",
       "<style scoped>\n",
       "    .dataframe tbody tr th:only-of-type {\n",
       "        vertical-align: middle;\n",
       "    }\n",
       "\n",
       "    .dataframe tbody tr th {\n",
       "        vertical-align: top;\n",
       "    }\n",
       "\n",
       "    .dataframe thead th {\n",
       "        text-align: right;\n",
       "    }\n",
       "</style>\n",
       "<table border=\"1\" class=\"dataframe\">\n",
       "  <thead>\n",
       "    <tr style=\"text-align: right;\">\n",
       "      <th></th>\n",
       "      <th>name</th>\n",
       "      <th>brand</th>\n",
       "      <th>rating</th>\n",
       "    </tr>\n",
       "  </thead>\n",
       "  <tbody>\n",
       "    <tr>\n",
       "      <th>0</th>\n",
       "      <td>:)</td>\n",
       "      <td>Samsung</td>\n",
       "      <td>3.666667</td>\n",
       "    </tr>\n",
       "    <tr>\n",
       "      <th>1</th>\n",
       "      <td>A</td>\n",
       "      <td>Google</td>\n",
       "      <td>1.000000</td>\n",
       "    </tr>\n",
       "    <tr>\n",
       "      <th>2</th>\n",
       "      <td>A</td>\n",
       "      <td>HUAWEI</td>\n",
       "      <td>1.000000</td>\n",
       "    </tr>\n",
       "    <tr>\n",
       "      <th>3</th>\n",
       "      <td>A</td>\n",
       "      <td>Motorola</td>\n",
       "      <td>5.000000</td>\n",
       "    </tr>\n",
       "    <tr>\n",
       "      <th>4</th>\n",
       "      <td>A</td>\n",
       "      <td>Nokia</td>\n",
       "      <td>3.000000</td>\n",
       "    </tr>\n",
       "  </tbody>\n",
       "</table>\n",
       "</div>"
      ],
      "text/plain": [
       "  name     brand    rating\n",
       "0   :)   Samsung  3.666667\n",
       "1    A    Google  1.000000\n",
       "2    A    HUAWEI  1.000000\n",
       "3    A  Motorola  5.000000\n",
       "4    A     Nokia  3.000000"
      ]
     },
     "execution_count": 152,
     "metadata": {},
     "output_type": "execute_result"
    }
   ],
   "source": [
    "reviews1 = reviews1.groupby(['name', 'brand']).mean().reset_index()\n",
    "print('sample length: {}'.format(reviews1.shape[0]))\n",
    "reviews1.head()"
   ]
  },
  {
   "cell_type": "markdown",
   "metadata": {},
   "source": [
    "Extracting a feature vector for each brand"
   ]
  },
  {
   "cell_type": "code",
   "execution_count": 153,
   "metadata": {},
   "outputs": [
    {
     "data": {
      "text/html": [
       "<div>\n",
       "<style scoped>\n",
       "    .dataframe tbody tr th:only-of-type {\n",
       "        vertical-align: middle;\n",
       "    }\n",
       "\n",
       "    .dataframe tbody tr th {\n",
       "        vertical-align: top;\n",
       "    }\n",
       "\n",
       "    .dataframe thead th {\n",
       "        text-align: right;\n",
       "    }\n",
       "</style>\n",
       "<table border=\"1\" class=\"dataframe\">\n",
       "  <thead>\n",
       "    <tr style=\"text-align: right;\">\n",
       "      <th></th>\n",
       "      <th>ASUS</th>\n",
       "      <th>Apple</th>\n",
       "      <th>Google</th>\n",
       "      <th>HUAWEI</th>\n",
       "      <th>Motorola</th>\n",
       "      <th>Nokia</th>\n",
       "      <th>OnePlus</th>\n",
       "      <th>Samsung</th>\n",
       "      <th>Sony</th>\n",
       "      <th>Xiaomi</th>\n",
       "      <th>name</th>\n",
       "      <th>rating</th>\n",
       "    </tr>\n",
       "  </thead>\n",
       "  <tbody>\n",
       "    <tr>\n",
       "      <th>0</th>\n",
       "      <td>NaN</td>\n",
       "      <td>NaN</td>\n",
       "      <td>NaN</td>\n",
       "      <td>NaN</td>\n",
       "      <td>NaN</td>\n",
       "      <td>NaN</td>\n",
       "      <td>NaN</td>\n",
       "      <td>1.0</td>\n",
       "      <td>NaN</td>\n",
       "      <td>NaN</td>\n",
       "      <td>:)</td>\n",
       "      <td>3.666667</td>\n",
       "    </tr>\n",
       "    <tr>\n",
       "      <th>1</th>\n",
       "      <td>NaN</td>\n",
       "      <td>NaN</td>\n",
       "      <td>1.0</td>\n",
       "      <td>NaN</td>\n",
       "      <td>NaN</td>\n",
       "      <td>NaN</td>\n",
       "      <td>NaN</td>\n",
       "      <td>NaN</td>\n",
       "      <td>NaN</td>\n",
       "      <td>NaN</td>\n",
       "      <td>A</td>\n",
       "      <td>1.000000</td>\n",
       "    </tr>\n",
       "    <tr>\n",
       "      <th>2</th>\n",
       "      <td>NaN</td>\n",
       "      <td>NaN</td>\n",
       "      <td>NaN</td>\n",
       "      <td>1.0</td>\n",
       "      <td>NaN</td>\n",
       "      <td>NaN</td>\n",
       "      <td>NaN</td>\n",
       "      <td>NaN</td>\n",
       "      <td>NaN</td>\n",
       "      <td>NaN</td>\n",
       "      <td>A</td>\n",
       "      <td>1.000000</td>\n",
       "    </tr>\n",
       "    <tr>\n",
       "      <th>3</th>\n",
       "      <td>NaN</td>\n",
       "      <td>NaN</td>\n",
       "      <td>NaN</td>\n",
       "      <td>NaN</td>\n",
       "      <td>1.0</td>\n",
       "      <td>NaN</td>\n",
       "      <td>NaN</td>\n",
       "      <td>NaN</td>\n",
       "      <td>NaN</td>\n",
       "      <td>NaN</td>\n",
       "      <td>A</td>\n",
       "      <td>5.000000</td>\n",
       "    </tr>\n",
       "    <tr>\n",
       "      <th>4</th>\n",
       "      <td>NaN</td>\n",
       "      <td>NaN</td>\n",
       "      <td>NaN</td>\n",
       "      <td>NaN</td>\n",
       "      <td>NaN</td>\n",
       "      <td>1.0</td>\n",
       "      <td>NaN</td>\n",
       "      <td>NaN</td>\n",
       "      <td>NaN</td>\n",
       "      <td>NaN</td>\n",
       "      <td>A</td>\n",
       "      <td>3.000000</td>\n",
       "    </tr>\n",
       "  </tbody>\n",
       "</table>\n",
       "</div>"
      ],
      "text/plain": [
       "   ASUS  Apple  Google  HUAWEI  Motorola  Nokia  OnePlus  Samsung  Sony  \\\n",
       "0   NaN    NaN     NaN     NaN       NaN    NaN      NaN      1.0   NaN   \n",
       "1   NaN    NaN     1.0     NaN       NaN    NaN      NaN      NaN   NaN   \n",
       "2   NaN    NaN     NaN     1.0       NaN    NaN      NaN      NaN   NaN   \n",
       "3   NaN    NaN     NaN     NaN       1.0    NaN      NaN      NaN   NaN   \n",
       "4   NaN    NaN     NaN     NaN       NaN    1.0      NaN      NaN   NaN   \n",
       "\n",
       "   Xiaomi name    rating  \n",
       "0     NaN   :)  3.666667  \n",
       "1     NaN    A  1.000000  \n",
       "2     NaN    A  1.000000  \n",
       "3     NaN    A  5.000000  \n",
       "4     NaN    A  3.000000  "
      ]
     },
     "execution_count": 153,
     "metadata": {},
     "output_type": "execute_result"
    }
   ],
   "source": [
    "# spand brand in columns, one for each brand\n",
    "def func(x):\n",
    "    x[x.brand] = 1\n",
    "    return x\n",
    "\n",
    "reviews1 = reviews1.apply(func, axis=1)\n",
    "reviews1.drop(['brand'], axis='columns', inplace=True)\n",
    "reviews1.head()"
   ]
  },
  {
   "cell_type": "code",
   "execution_count": 154,
   "metadata": {},
   "outputs": [
    {
     "data": {
      "text/html": [
       "<div>\n",
       "<style scoped>\n",
       "    .dataframe tbody tr th:only-of-type {\n",
       "        vertical-align: middle;\n",
       "    }\n",
       "\n",
       "    .dataframe tbody tr th {\n",
       "        vertical-align: top;\n",
       "    }\n",
       "\n",
       "    .dataframe thead th {\n",
       "        text-align: right;\n",
       "    }\n",
       "</style>\n",
       "<table border=\"1\" class=\"dataframe\">\n",
       "  <thead>\n",
       "    <tr style=\"text-align: right;\">\n",
       "      <th></th>\n",
       "      <th>ASUS</th>\n",
       "      <th>Apple</th>\n",
       "      <th>Google</th>\n",
       "      <th>HUAWEI</th>\n",
       "      <th>Motorola</th>\n",
       "      <th>Nokia</th>\n",
       "      <th>OnePlus</th>\n",
       "      <th>Samsung</th>\n",
       "      <th>Sony</th>\n",
       "      <th>Xiaomi</th>\n",
       "      <th>name</th>\n",
       "      <th>rating</th>\n",
       "    </tr>\n",
       "  </thead>\n",
       "  <tbody>\n",
       "    <tr>\n",
       "      <th>0</th>\n",
       "      <td>0.0</td>\n",
       "      <td>0.0</td>\n",
       "      <td>0.0</td>\n",
       "      <td>0.0</td>\n",
       "      <td>0.0</td>\n",
       "      <td>0.0</td>\n",
       "      <td>0.0</td>\n",
       "      <td>3.666667</td>\n",
       "      <td>0.0</td>\n",
       "      <td>0.0</td>\n",
       "      <td>:)</td>\n",
       "      <td>3.666667</td>\n",
       "    </tr>\n",
       "    <tr>\n",
       "      <th>1</th>\n",
       "      <td>0.0</td>\n",
       "      <td>0.0</td>\n",
       "      <td>1.0</td>\n",
       "      <td>0.0</td>\n",
       "      <td>0.0</td>\n",
       "      <td>0.0</td>\n",
       "      <td>0.0</td>\n",
       "      <td>0.000000</td>\n",
       "      <td>0.0</td>\n",
       "      <td>0.0</td>\n",
       "      <td>A</td>\n",
       "      <td>1.000000</td>\n",
       "    </tr>\n",
       "    <tr>\n",
       "      <th>2</th>\n",
       "      <td>0.0</td>\n",
       "      <td>0.0</td>\n",
       "      <td>0.0</td>\n",
       "      <td>1.0</td>\n",
       "      <td>0.0</td>\n",
       "      <td>0.0</td>\n",
       "      <td>0.0</td>\n",
       "      <td>0.000000</td>\n",
       "      <td>0.0</td>\n",
       "      <td>0.0</td>\n",
       "      <td>A</td>\n",
       "      <td>1.000000</td>\n",
       "    </tr>\n",
       "    <tr>\n",
       "      <th>3</th>\n",
       "      <td>0.0</td>\n",
       "      <td>0.0</td>\n",
       "      <td>0.0</td>\n",
       "      <td>0.0</td>\n",
       "      <td>5.0</td>\n",
       "      <td>0.0</td>\n",
       "      <td>0.0</td>\n",
       "      <td>0.000000</td>\n",
       "      <td>0.0</td>\n",
       "      <td>0.0</td>\n",
       "      <td>A</td>\n",
       "      <td>5.000000</td>\n",
       "    </tr>\n",
       "    <tr>\n",
       "      <th>4</th>\n",
       "      <td>0.0</td>\n",
       "      <td>0.0</td>\n",
       "      <td>0.0</td>\n",
       "      <td>0.0</td>\n",
       "      <td>0.0</td>\n",
       "      <td>3.0</td>\n",
       "      <td>0.0</td>\n",
       "      <td>0.000000</td>\n",
       "      <td>0.0</td>\n",
       "      <td>0.0</td>\n",
       "      <td>A</td>\n",
       "      <td>3.000000</td>\n",
       "    </tr>\n",
       "  </tbody>\n",
       "</table>\n",
       "</div>"
      ],
      "text/plain": [
       "   ASUS  Apple  Google  HUAWEI  Motorola  Nokia  OnePlus   Samsung  Sony  \\\n",
       "0   0.0    0.0     0.0     0.0       0.0    0.0      0.0  3.666667   0.0   \n",
       "1   0.0    0.0     1.0     0.0       0.0    0.0      0.0  0.000000   0.0   \n",
       "2   0.0    0.0     0.0     1.0       0.0    0.0      0.0  0.000000   0.0   \n",
       "3   0.0    0.0     0.0     0.0       5.0    0.0      0.0  0.000000   0.0   \n",
       "4   0.0    0.0     0.0     0.0       0.0    3.0      0.0  0.000000   0.0   \n",
       "\n",
       "   Xiaomi name    rating  \n",
       "0     0.0   :)  3.666667  \n",
       "1     0.0    A  1.000000  \n",
       "2     0.0    A  1.000000  \n",
       "3     0.0    A  5.000000  \n",
       "4     0.0    A  3.000000  "
      ]
     },
     "execution_count": 154,
     "metadata": {},
     "output_type": "execute_result"
    }
   ],
   "source": [
    "cols = reviews1.columns.tolist()\n",
    "for col in ['name', 'rating']:\n",
    "    cols.remove(col)\n",
    "\n",
    "reviews1[cols] = reviews1[cols].mul(reviews1['rating'], axis=0)\n",
    "reviews1 = reviews1.fillna(value=0)\n",
    "reviews1.head()"
   ]
  },
  {
   "cell_type": "code",
   "execution_count": 157,
   "metadata": {},
   "outputs": [],
   "source": [
    "reviews2 = reviews1[reviews1.columns[:-2]]"
   ]
  },
  {
   "cell_type": "code",
   "execution_count": 158,
   "metadata": {},
   "outputs": [
    {
     "data": {
      "image/png": "[encoded data removed]",
      "text/plain": [
       "<Figure size 576x396 with 1 Axes>"
      ]
     },
     "metadata": {},
     "output_type": "display_data"
    }
   ],
   "source": [
    "pca = PCA()\n",
    "pca.fit(reviews2)\n",
    "acc_var = np.cumsum(pca.explained_variance_ratio_) \n",
    "\n",
    "plt.style.use('seaborn')\n",
    "plt.plot(range(1, len(acc_var)+1), acc_var)\n",
    "plt.title('PCA explained variance')\n",
    "plt.xlabel('Number of Variables')\n",
    "_ = plt.ylabel('Variance Explained')"
   ]
  },
  {
   "cell_type": "code",
   "execution_count": 160,
   "metadata": {},
   "outputs": [
    {
     "data": {
      "text/html": [
       "<div>\n",
       "<style scoped>\n",
       "    .dataframe tbody tr th:only-of-type {\n",
       "        vertical-align: middle;\n",
       "    }\n",
       "\n",
       "    .dataframe tbody tr th {\n",
       "        vertical-align: top;\n",
       "    }\n",
       "\n",
       "    .dataframe thead th {\n",
       "        text-align: right;\n",
       "    }\n",
       "</style>\n",
       "<table border=\"1\" class=\"dataframe\">\n",
       "  <thead>\n",
       "    <tr style=\"text-align: right;\">\n",
       "      <th></th>\n",
       "      <th>0</th>\n",
       "      <th>1</th>\n",
       "      <th>2</th>\n",
       "      <th>3</th>\n",
       "      <th>4</th>\n",
       "      <th>5</th>\n",
       "      <th>6</th>\n",
       "    </tr>\n",
       "  </thead>\n",
       "  <tbody>\n",
       "    <tr>\n",
       "      <th>0</th>\n",
       "      <td>2.722622</td>\n",
       "      <td>0.230065</td>\n",
       "      <td>0.062380</td>\n",
       "      <td>-0.058818</td>\n",
       "      <td>-0.058104</td>\n",
       "      <td>-0.016145</td>\n",
       "      <td>-0.012934</td>\n",
       "    </tr>\n",
       "    <tr>\n",
       "      <th>1</th>\n",
       "      <td>-0.750191</td>\n",
       "      <td>-0.410305</td>\n",
       "      <td>-0.214044</td>\n",
       "      <td>0.307826</td>\n",
       "      <td>0.806265</td>\n",
       "      <td>-0.575062</td>\n",
       "      <td>-0.124807</td>\n",
       "    </tr>\n",
       "    <tr>\n",
       "      <th>2</th>\n",
       "      <td>-0.732343</td>\n",
       "      <td>-0.383273</td>\n",
       "      <td>-0.187294</td>\n",
       "      <td>0.247831</td>\n",
       "      <td>0.439029</td>\n",
       "      <td>0.276871</td>\n",
       "      <td>0.939769</td>\n",
       "    </tr>\n",
       "    <tr>\n",
       "      <th>3</th>\n",
       "      <td>-2.090510</td>\n",
       "      <td>4.064035</td>\n",
       "      <td>0.460347</td>\n",
       "      <td>-0.383766</td>\n",
       "      <td>-0.359376</td>\n",
       "      <td>-0.101121</td>\n",
       "      <td>-0.082817</td>\n",
       "    </tr>\n",
       "    <tr>\n",
       "      <th>4</th>\n",
       "      <td>-0.992902</td>\n",
       "      <td>-0.784150</td>\n",
       "      <td>-0.661585</td>\n",
       "      <td>2.110492</td>\n",
       "      <td>-1.577708</td>\n",
       "      <td>-0.222303</td>\n",
       "      <td>-0.146046</td>\n",
       "    </tr>\n",
       "  </tbody>\n",
       "</table>\n",
       "</div>"
      ],
      "text/plain": [
       "          0         1         2         3         4         5         6\n",
       "0  2.722622  0.230065  0.062380 -0.058818 -0.058104 -0.016145 -0.012934\n",
       "1 -0.750191 -0.410305 -0.214044  0.307826  0.806265 -0.575062 -0.124807\n",
       "2 -0.732343 -0.383273 -0.187294  0.247831  0.439029  0.276871  0.939769\n",
       "3 -2.090510  4.064035  0.460347 -0.383766 -0.359376 -0.101121 -0.082817\n",
       "4 -0.992902 -0.784150 -0.661585  2.110492 -1.577708 -0.222303 -0.146046"
      ]
     },
     "execution_count": 160,
     "metadata": {},
     "output_type": "execute_result"
    }
   ],
   "source": [
    "N_COMPONENTS = 7\n",
    "\n",
    "pca.set_params(n_components=N_COMPONENTS)\n",
    "pca.fit(reviews2)\n",
    "reviews2_pca = pca.transform(reviews2)\n",
    "reviews2_pos_pca = pd.DataFrame(reviews2_pca)\n",
    "reviews2_pos_pca.head()"
   ]
  },
  {
   "cell_type": "code",
   "execution_count": 162,
   "metadata": {},
   "outputs": [
    {
     "data": {
      "image/png": "[encoded data removed]",
      "text/plain": [
       "<Figure size 576x396 with 1 Axes>"
      ]
     },
     "metadata": {},
     "output_type": "display_data"
    }
   ],
   "source": [
    "inertia = []\n",
    "scores = []\n",
    "for n_clusters in range(2, 12):\n",
    "    kmeans = KMeans(n_clusters=n_clusters)\n",
    "    kmeans.fit(reviews2_pos_pca)\n",
    "    inertia.append(kmeans.inertia_)\n",
    "plt.plot(range(2, 12), inertia)\n",
    "plt.xlabel('Number of Clusters')\n",
    "plt.ylabel('Quadratic Error')\n",
    "_ = plt.title('K-means error vs number of Clusters')"
   ]
  }
 ],
 "metadata": {
  "kernelspec": {
   "display_name": "Python 3",
   "language": "python",
   "name": "python3"
  },
  "language_info": {
   "codemirror_mode": {
    "name": "ipython",
    "version": 3
   },
   "file_extension": ".py",
   "mimetype": "text/x-python",
   "name": "python",
   "nbconvert_exporter": "python",
   "pygments_lexer": "ipython3",
   "version": "3.8.5"
  }
 },
 "nbformat": 4,
 "nbformat_minor": 4
}
